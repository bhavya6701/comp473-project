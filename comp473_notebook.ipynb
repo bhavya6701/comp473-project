{
 "cells": [
  {
   "cell_type": "markdown",
   "metadata": {
    "colab_type": "text",
    "id": "view-in-github"
   },
   "source": [
    "<a href=\"https://colab.research.google.com/github/bhavya6701/comp473-project/blob/main/comp473_notebook.ipynb\" target=\"_parent\"><img src=\"https://colab.research.google.com/assets/colab-badge.svg\" alt=\"Open In Colab\"/></a>"
   ]
  },
  {
   "cell_type": "markdown",
   "metadata": {
    "id": "5VltbyCzGvyd"
   },
   "source": [
    "# Implementation of Artistic Style Transfer Using Convolutional Neural Networks\n",
    "**Authors:** Shibin Koshy [40295019], Ruturajsinh Vihol [40154693], Bhavya Manjibhai Ruparelia [40164863]"
   ]
  },
  {
   "cell_type": "markdown",
   "metadata": {},
   "source": [
    "## Imports"
   ]
  },
  {
   "cell_type": "code",
   "execution_count": null,
   "metadata": {},
   "outputs": [],
   "source": [
    "import os\n",
    "import json\n",
    "import matplotlib.pyplot as plt\n",
    "import torch\n",
    "import torch.optim as optim\n",
    "from tqdm import tqdm\n",
    "import warnings\n",
    "\n",
    "from model_utils import (\n",
    "    load_models,\n",
    "    extract_features,\n",
    "    gram_matrix,\n",
    "    calculate_content_loss,\n",
    "    calculate_style_loss,\n",
    ")\n",
    "\n",
    "from image_utils import load_image, tensor_to_image, plot_style_transfer, plot_images"
   ]
  },
  {
   "cell_type": "code",
   "execution_count": null,
   "metadata": {},
   "outputs": [],
   "source": [
    "# Filter out warnings\n",
    "warnings.filterwarnings(\"ignore\")\n",
    "\n",
    "# Set the home directory\n",
    "HOME = os.getcwd()\n",
    "\n",
    "# Set the device\n",
    "device = torch.device(\"cuda\" if torch.cuda.is_available() else \"cpu\")"
   ]
  },
  {
   "cell_type": "markdown",
   "metadata": {},
   "source": [
    "## Load Models\n",
    "\n",
    "**VGG-16**: A convolutional neural network with 16 layers, popular for style transfer due to its ability to capture detailed hierarchical features across layers. Pre-trained on ImageNet, it offers a balance between depth and computational efficiency.\n",
    "\n",
    "**VGG-19**: An extended version of VGG-16 with 19 layers, providing deeper feature representations. This model can capture more complex details, enhancing style extraction for artistic image synthesis.\n",
    "\n",
    "<!-- **ResNet-50**: A 50-layer residual network with skip connections, which helps retain both high- and low-level features. This architecture is well-suited for extracting intricate textures and patterns in style transfer tasks. -->"
   ]
  },
  {
   "cell_type": "code",
   "execution_count": null,
   "metadata": {},
   "outputs": [],
   "source": [
    "# Load pre-trained models from torchvision\n",
    "model_dict = load_models(device)"
   ]
  },
  {
   "cell_type": "markdown",
   "metadata": {},
   "source": [
    "## Load Images"
   ]
  },
  {
   "cell_type": "code",
   "execution_count": null,
   "metadata": {},
   "outputs": [],
   "source": [
    "CONTENT_IMAGE_PATH = HOME + \"/data/input_images/content11.jpeg\"\n",
    "STYLE_IMAGE_PATH = HOME + \"/data/input_images/style12.jpg\"\n",
    "\n",
    "content = load_image(CONTENT_IMAGE_PATH).to(device)\n",
    "style = load_image(STYLE_IMAGE_PATH, shape=content.shape[-2:]).to(device)"
   ]
  },
  {
   "cell_type": "code",
   "execution_count": null,
   "metadata": {},
   "outputs": [],
   "source": [
    "# Create a figure and set the title\n",
    "plot_images(\n",
    "    fig_size=(10, 6),\n",
    "    rows=1,\n",
    "    cols=2,\n",
    "    images=[tensor_to_image(content), tensor_to_image(style)],\n",
    "    titles=[\"Content Image\", \"Style Image\"],\n",
    "    axis=\"off\",\n",
    ")"
   ]
  },
  {
   "cell_type": "markdown",
   "metadata": {},
   "source": [
    "## Loss Functions and Optimization"
   ]
  },
  {
   "cell_type": "code",
   "execution_count": null,
   "metadata": {},
   "outputs": [],
   "source": [
    "# Load the JSON file\n",
    "with open(\"model_config.json\", \"r\") as json_file:\n",
    "    data = json.load(json_file)\n",
    "\n",
    "# Extracting data into variables\n",
    "layers = data[\"layers\"]\n",
    "model_style_weights = data[\"style_weights\"]\n",
    "content_loss_layer = data[\"content_layer\"]\n",
    "params = data[\"hyperparameters\"]\n",
    "\n",
    "# Define the hyperparameters\n",
    "iterations = params[\"iters\"]\n",
    "checkpoints = params[\"ckpts\"]\n",
    "content_weight = params[\"alpha\"]\n",
    "style_weight = params[\"beta\"]\n",
    "lr = params[\"lr\"]"
   ]
  },
  {
   "cell_type": "markdown",
   "metadata": {},
   "source": [
    "## Training and Evaluation of Style Transfer Models"
   ]
  },
  {
   "cell_type": "code",
   "execution_count": null,
   "metadata": {},
   "outputs": [],
   "source": [
    "# Compute the content and style featuref for the content and style images using the VGG-16 and VGG-19 models\n",
    "content_features = {\n",
    "    \"vgg-16\": extract_features(content, model_dict[\"vgg-16\"], layers[\"vgg-16\"]),\n",
    "    \"vgg-19\": extract_features(content, model_dict[\"vgg-19\"], layers[\"vgg-19\"]),\n",
    "}\n",
    "style_features = {\n",
    "    \"vgg-16\": extract_features(style, model_dict[\"vgg-16\"], layers[\"vgg-16\"]),\n",
    "    \"vgg-19\": extract_features(style, model_dict[\"vgg-19\"], layers[\"vgg-19\"]),\n",
    "}\n",
    "\n",
    "style_grams = {\n",
    "    \"vgg-16\": {\n",
    "        layer: gram_matrix(style_features[\"vgg-16\"][layer])\n",
    "        for layer in style_features[\"vgg-16\"]\n",
    "    },\n",
    "    \"vgg-19\": {\n",
    "        layer: gram_matrix(style_features[\"vgg-19\"][layer])\n",
    "        for layer in style_features[\"vgg-19\"]\n",
    "    },\n",
    "}"
   ]
  },
  {
   "cell_type": "code",
   "execution_count": null,
   "metadata": {},
   "outputs": [],
   "source": [
    "#  Function for the style transfer algorithm\n",
    "def style_transfer_algorithm(\n",
    "    model_name,\n",
    "    content_loss_layer,\n",
    "    optim_name,\n",
    "    iterations=1000,\n",
    "    lr=0.01,\n",
    "    checkpoints=10,\n",
    "    alpha=1,\n",
    "    beta=1e6,\n",
    "):\n",
    "    model = model_dict[model_name]\n",
    "    model_content_features = content_features[model_name]\n",
    "    model_style_features = style_features[model_name]\n",
    "\n",
    "    if optim_name == \"adam\":\n",
    "        # Initialize the target image - content image\n",
    "        target = content.clone().requires_grad_(True).to(device)\n",
    "        \n",
    "        # Define the optimizer\n",
    "        optimizer = optim.Adam([target], lr=lr)\n",
    "\n",
    "        # Create a list to store the images and the total loss values\n",
    "        images = [tensor_to_image(target.detach())]\n",
    "        total_losses = []\n",
    "\n",
    "        # Iterate through the steps\n",
    "        for step in tqdm(range(1, iterations + 1)):\n",
    "            # Extract the features from the target image\n",
    "            target_features = extract_features(target, model, layers[model_name])\n",
    "\n",
    "            # Calculate the content and style loss\n",
    "            content_loss = calculate_content_loss(\n",
    "                target_features, model_content_features, content_loss_layer\n",
    "            )\n",
    "            style_loss = calculate_style_loss(\n",
    "                target_features, model_style_features, model_style_weights\n",
    "            )\n",
    "\n",
    "            # Compute the total loss\n",
    "            total_loss = alpha * content_loss + beta * style_loss\n",
    "\n",
    "            # Update the target image, zero the gradients, backpropagate, and step the optimizer\n",
    "            optimizer.zero_grad()\n",
    "            total_loss.backward()\n",
    "            optimizer.step()\n",
    "\n",
    "            # Append the total loss to the list\n",
    "            total_losses.append(total_loss.item())\n",
    "\n",
    "            # Save the images at the specified checkpoints\n",
    "            if step % (iterations // checkpoints) == 0:\n",
    "                images.append(tensor_to_image(target.detach()))\n",
    "    elif optim_name == \"lbfgs\":\n",
    "        # Initialize the target image - noise\n",
    "        target = torch.randn_like(content).requires_grad_(True).to(device)\n",
    "        \n",
    "        # Define the optimizer\n",
    "        optimizer = optim.LBFGS([target])\n",
    "\n",
    "        # Create a list to store the images and the total loss values\n",
    "        images = [tensor_to_image(target.detach())]\n",
    "        total_losses = []\n",
    "\n",
    "        # Define the closure\n",
    "        def closure():\n",
    "            optimizer.zero_grad()\n",
    "\n",
    "            # Extract the features from the target image\n",
    "            target_features = extract_features(target, model, layers[model_name])\n",
    "\n",
    "            # Calculate the content and style loss\n",
    "            content_loss = calculate_content_loss(\n",
    "                target_features, model_content_features, content_loss_layer\n",
    "            )\n",
    "            style_loss = calculate_style_loss(\n",
    "                target_features, model_style_features, model_style_weights\n",
    "            )\n",
    "\n",
    "            # Compute the total loss\n",
    "            total_loss = alpha * content_loss + beta * style_loss\n",
    "\n",
    "            # Backpropagate\n",
    "            total_loss.backward()\n",
    "\n",
    "            # Append the total loss to the list\n",
    "            total_losses.append(total_loss.item())\n",
    "\n",
    "            return total_loss\n",
    "\n",
    "        # Iterate through the steps\n",
    "        for step in tqdm(range(1, iterations + 1)):\n",
    "            optimizer.step(closure)\n",
    "\n",
    "            # Save the images at the specified checkpoints\n",
    "            if step % (iterations // checkpoints) == 0:\n",
    "                images.append(tensor_to_image(target.detach()))            \n",
    "    \n",
    "    # print(\n",
    "    #     f\"Step {step}/{iterations} - Total loss: {total_losses[-1]:.16f}, \"\n",
    "    #     f\"Content loss: {content_loss.item():.16f}, Style loss: {style_loss.item():.16f}\"\n",
    "    # )\n",
    "\n",
    "    # Include the final image\n",
    "    images.append(tensor_to_image(target.detach()))\n",
    "\n",
    "    return images, total_losses"
   ]
  },
  {
   "cell_type": "markdown",
   "metadata": {},
   "source": [
    "## VGG-16 Style Transfer"
   ]
  },
  {
   "cell_type": "code",
   "execution_count": null,
   "metadata": {},
   "outputs": [],
   "source": [
    "# Call the style transfer function for the VGG-16 model\n",
    "saved_images, total_losses = style_transfer_algorithm(\n",
    "    \"vgg-16\", content_loss_layer, \"lbfgs\", 100, lr, checkpoints, content_weight, 1e4\n",
    ")\n",
    "vgg16_output_image = saved_images[-1]\n",
    "\n",
    "# Create a plot with the images and total loss values\n",
    "plot_style_transfer(saved_images, total_losses, iterations, checkpoints)"
   ]
  },
  {
   "cell_type": "markdown",
   "metadata": {},
   "source": [
    "## VGG-19 Style Transfer"
   ]
  },
  {
   "cell_type": "code",
   "execution_count": null,
   "metadata": {},
   "outputs": [],
   "source": [
    "# Call the style transfer function for the VGG-19 model\n",
    "saved_images, total_losses = style_transfer_algorithm(\n",
    "    \"vgg-19\",\n",
    "    content_loss_layer,\n",
    "    \"adam\",\n",
    "    iterations,\n",
    "    lr,\n",
    "    checkpoints,\n",
    "    content_weight,\n",
    "    style_weight,\n",
    ")\n",
    "vgg19_output_image = saved_images[-1]\n",
    "\n",
    "# Create a plot with the images and total loss values\n",
    "plot_style_transfer(saved_images, total_losses, iterations, checkpoints)"
   ]
  },
  {
   "cell_type": "markdown",
   "metadata": {},
   "source": [
    "## Initial Content vs Final Style Transfer Image"
   ]
  },
  {
   "cell_type": "code",
   "execution_count": null,
   "metadata": {},
   "outputs": [],
   "source": [
    "plot_images(\n",
    "    fig_size=(20, 8),\n",
    "    rows=2,\n",
    "    cols=2,\n",
    "    images=[\n",
    "        tensor_to_image(content),\n",
    "        tensor_to_image(style),\n",
    "        vgg16_output_image,\n",
    "        vgg19_output_image,\n",
    "    ],\n",
    "    titles=[\"Content Image\", \"Style Image\", \"VGG-16 Final Image\", \"VGG-19 Final Image\"],\n",
    "    axis=\"off\",\n",
    ")"
   ]
  },
  {
   "cell_type": "markdown",
   "metadata": {},
   "source": [
    "## Content Layer Comparison"
   ]
  },
  {
   "cell_type": "code",
   "execution_count": null,
   "metadata": {},
   "outputs": [],
   "source": [
    "compare_layers = [\"conv1_1\", \"conv2_1\", \"conv3_1\", \"conv4_1\", \"conv5_1\"]\n",
    "layer_images = []\n",
    "\n",
    "# Iterate through the layers\n",
    "for layer in compare_layers:\n",
    "    print(f\"Running style transfer for layer: {layer}\")\n",
    "\n",
    "    # Call the style transfer function for the VGG-19 model\n",
    "    saved_images, total_losses = style_transfer_algorithm(\n",
    "        \"vgg-19\", layer, \"adam\", iterations, lr, checkpoints, content_weight, style_weight\n",
    "    )\n",
    "\n",
    "    # Append the final image to the list\n",
    "    layer_images.append(saved_images[-2])\n",
    "\n",
    "# Create a plot with all the images obtained using different style_weight values\n",
    "fig, axes = plt.subplots(1, 5, figsize=(20, 4))\n",
    "\n",
    "for i, image in enumerate(layer_images):\n",
    "    axes[i].imshow(image)\n",
    "    axes[i].axis(\"off\")\n",
    "    axes[i].set_title(f\"Layer {compare_layers[i]}\")\n",
    "\n",
    "plt.tight_layout()\n",
    "plt.show()\n"
   ]
  },
  {
   "cell_type": "markdown",
   "metadata": {},
   "source": [
    "## Content Weight to Style Weight Ratio Analysis"
   ]
  },
  {
   "cell_type": "code",
   "execution_count": null,
   "metadata": {},
   "outputs": [],
   "source": [
    "style_weights = [1e3, 1e4, 1e5, 1e6, 1e7]\n",
    "output_images = []\n",
    "\n",
    "# Call the style transfer function for the VGG-19 model\n",
    "for sw in style_weights:\n",
    "    print(f\"Running style transfer algorithm with style weight = {sw}\")\n",
    "    saved_images, total_losses = style_transfer_algorithm(\n",
    "        \"vgg-19\", \"conv4_2\", \"adam\", 500, lr, checkpoints, content_weight, sw\n",
    "    )\n",
    "\n",
    "    output_images.append(saved_images[-2])\n",
    "\n",
    "# Create a plot with all the images obtained using different style weight values\n",
    "fig, axes = plt.subplots(1, 5, figsize=(20, 4))\n",
    "\n",
    "for i, image in enumerate(output_images):\n",
    "    axes[i].imshow(image)\n",
    "    axes[i].axis(\"off\")\n",
    "    axes[i].set_title(f\"Style weight = {style_weights[i]}\")\n",
    "\n",
    "plt.tight_layout()\n",
    "plt.show()"
   ]
  },
  {
   "cell_type": "code",
   "execution_count": null,
   "metadata": {},
   "outputs": [],
   "source": []
  }
 ],
 "metadata": {
  "colab": {
   "authorship_tag": "ABX9TyMMX6iqVyFbljkm0PR3Plsd",
   "include_colab_link": true,
   "provenance": []
  },
  "kernelspec": {
   "display_name": "base",
   "language": "python",
   "name": "python3"
  },
  "language_info": {
   "codemirror_mode": {
    "name": "ipython",
    "version": 3
   },
   "file_extension": ".py",
   "mimetype": "text/x-python",
   "name": "python",
   "nbconvert_exporter": "python",
   "pygments_lexer": "ipython3",
   "version": "3.12.7"
  }
 },
 "nbformat": 4,
 "nbformat_minor": 0
}
